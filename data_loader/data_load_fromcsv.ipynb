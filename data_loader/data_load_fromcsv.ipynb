{
 "cells": [
  {
   "cell_type": "code",
   "execution_count": 13,
   "metadata": {},
   "outputs": [
    {
     "name": "stdout",
     "output_type": "stream",
     "text": [
      "Markdown files have been generated.\n"
     ]
    }
   ],
   "source": [
    "import csv\n",
    "import os\n",
    "\n",
    "# Function to create a markdown file from a row's data\n",
    "def create_markdown(row):\n",
    "    # Creating a filename from the Name column, replacing spaces with underscores and making it lower case\n",
    "    folder = './md/'\n",
    "    filename = row['Name'].replace(\" \", \"_\").lower() + '.md'\n",
    "    # Set importance based on Role\n",
    "    importance_map = {'Student': 5, 'Faculty': 1}\n",
    "    # Default importance if Role is not in importance_map\n",
    "    importance = importance_map.get(row['Role'], 5)\n",
    "    content = f\"\"\"---\n",
    "    layout: page\n",
    "    title: {row['Name']}\n",
    "    description: {row['Role']}\n",
    "    img: assets/img/{filename.replace('.md', '.jpeg')}\n",
    "    redirect: {row['Website']}\n",
    "    importance: {importance}\n",
    "    category: {row['Role']}\n",
    "    ---\n",
    "    \"\"\"\n",
    "    # Writing the markdown content to a file\n",
    "    with open(folder + filename, 'w') as file:\n",
    "        file.write(content)\n",
    "\n",
    "\n",
    "# List of your CSV file paths\n",
    "csv_files = ['./UW ML Group Members - Students&Postdocs.csv', './UW ML Group Members - Faculty&Staff.csv']\n",
    "\n",
    "for file in csv_files:\n",
    "    with open(file, mode='r', encoding='utf-8') as csvfile:\n",
    "        reader = csv.DictReader(csvfile)\n",
    "        for row in reader:\n",
    "            create_markdown(row)\n",
    "\n",
    "print(\"Markdown files have been generated.\")\n"
   ]
  },
  {
   "cell_type": "code",
   "execution_count": 11,
   "metadata": {},
   "outputs": [],
   "source": [
    "import subprocess\n",
    "\n",
    "# Example command: list directory contents\n",
    "cmd = \"rm -rf ./md/*md\"\n",
    "\n",
    "# Run the command\n",
    "result = subprocess.run(cmd, shell=True, stdout=subprocess.PIPE, stderr=subprocess.PIPE, text=True)\n"
   ]
  }
 ],
 "metadata": {
  "kernelspec": {
   "display_name": "Python 3",
   "language": "python",
   "name": "python3"
  },
  "language_info": {
   "codemirror_mode": {
    "name": "ipython",
    "version": 3
   },
   "file_extension": ".py",
   "mimetype": "text/x-python",
   "name": "python",
   "nbconvert_exporter": "python",
   "pygments_lexer": "ipython3",
   "version": "3.8.2"
  }
 },
 "nbformat": 4,
 "nbformat_minor": 2
}
